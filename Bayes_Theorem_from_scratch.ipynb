{
  "nbformat": 4,
  "nbformat_minor": 0,
  "metadata": {
    "colab": {
      "provenance": [],
      "authorship_tag": "ABX9TyO1BuhMpizv2fTrTlYELH69",
      "include_colab_link": true
    },
    "kernelspec": {
      "name": "python3",
      "display_name": "Python 3"
    },
    "language_info": {
      "name": "python"
    }
  },
  "cells": [
    {
      "cell_type": "markdown",
      "metadata": {
        "id": "view-in-github",
        "colab_type": "text"
      },
      "source": [
        "<a href=\"https://colab.research.google.com/github/HUGOBROWNING/Machine-learning-from-scratch/blob/main/Bayes_Theorem_from_scratch.ipynb\" target=\"_parent\"><img src=\"https://colab.research.google.com/assets/colab-badge.svg\" alt=\"Open In Colab\"/></a>"
      ]
    },
    {
      "cell_type": "code",
      "source": [
        "import numpy as np\n",
        "from sklearn.model_selection import train_test_split\n",
        "from sklearn import datasets\n",
        "\n",
        "class NB:\n",
        "    def fit(self, X, y):\n",
        "        n_samples, n_features = X.shape\n",
        "        self._classes = np.unique(y)\n",
        "        n_classes = len(self._classes)\n",
        "\n",
        "        self._mean = np.zeros((n_classes, n_features), dtype=np.float64)\n",
        "        self._priors = np.zeros(n_classes, dtype=np.float64)\n",
        "        self._var = np.zeros((n_classes, n_features), dtype=np.float64)\n",
        "\n",
        "        for idx, c in enumerate(self._classes):\n",
        "            X_c = X[y == c]\n",
        "            self._mean[idx, :] = X_c.mean(axis=0)\n",
        "            self._var[idx, :] = X_c.var(axis=0)\n",
        "            self._priors[idx] = X_c.shape[0] / float(n_samples)\n",
        "\n",
        "    def predict(self, X):\n",
        "        y_pred = []\n",
        "        for x in X:\n",
        "            pos = []\n",
        "            for idx, c in enumerate(self._classes):\n",
        "                prior = np.log(self._priors[idx])\n",
        "                p = np.sum(np.log(self._pdf(idx, x)))\n",
        "                p = p + prior\n",
        "                pos.append(p)\n",
        "            y_pred.append(self._classes[np.argmax(pos)])\n",
        "        return np.array(y_pred)\n",
        "\n",
        "    def _pdf(self, class_idx, x):\n",
        "        mean = self._mean[class_idx]\n",
        "        var = self._var[class_idx]\n",
        "        numerator = np.exp(-((x - mean)**2) / (2 * var + 1e-9))\n",
        "        denom = np.sqrt(2 * np.pi * var + 1e-9)\n",
        "        return numerator / denom\n",
        "\n",
        "def accuracy(y_true, y_pred):\n",
        "    acc = np.sum(y_true == y_pred) / len(y_true)\n",
        "    return acc\n",
        "\n",
        "X, y = datasets.make_classification(\n",
        "    n_samples=1000,\n",
        "    n_features=10,\n",
        "    n_classes=2,\n",
        "    random_state=123\n",
        ")\n",
        "\n",
        "X_train, X_test, y_train, y_test = train_test_split(X, y, test_size=0.2, random_state=123)\n",
        "\n",
        "nb = NB()\n",
        "nb.fit(X_train, y_train)\n",
        "\n",
        "y_pred = nb.predict(X_test)\n",
        "\n",
        "acc = accuracy(y_test, y_pred)\n",
        "print(f\"Accuracy: {acc * 100:.2f}%\")"
      ],
      "metadata": {
        "colab": {
          "base_uri": "https://localhost:8080/"
        },
        "id": "sdSJ2RmuEQvW",
        "outputId": "8deb8940-c41a-4b55-e8e2-0f0549e5844c"
      },
      "execution_count": 42,
      "outputs": [
        {
          "output_type": "stream",
          "name": "stdout",
          "text": [
            "Accuracy: 96.50%\n"
          ]
        }
      ]
    }
  ]
}